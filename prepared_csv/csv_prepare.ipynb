{
 "cells": [
  {
   "cell_type": "code",
   "execution_count": null,
   "metadata": {
    "collapsed": true
   },
   "outputs": [],
   "source": [
    "# Creating 2 csv files to be fed into NN. One for knotted and one for unknotted proteins"
   ]
  },
  {
   "cell_type": "code",
   "execution_count": 1,
   "outputs": [],
   "source": [
    "# PF04034\n",
    "# PF01699\n",
    "ulist = []\n",
    "klist = []\n",
    "with open(\"../PF01699.csv\", \"r\") as file:\n",
    "    lines = file.readlines()\n",
    "    for line in lines:\n",
    "        a = line.index(',')\n",
    "        b = line[a+1:].index(',')\n",
    "        newline = line[a+1:a+b+1]\n",
    "        if line.endswith(\"0_1\\n\"):\n",
    "            ulist.append(newline)\n",
    "        else:\n",
    "            klist.append(newline)"
   ],
   "metadata": {
    "collapsed": false
   }
  },
  {
   "cell_type": "code",
   "execution_count": 2,
   "outputs": [],
   "source": [
    "# PF04034\n",
    "# PF01699\n",
    "with open(\"PF01699_unknotted.csv\", \"w\") as uf:\n",
    "    for i in range(1,len(ulist)):\n",
    "        uf.write(str(ulist[i]) + \",\" + \"0\" + \"\\n\")"
   ],
   "metadata": {
    "collapsed": false
   }
  },
  {
   "cell_type": "code",
   "execution_count": 3,
   "outputs": [],
   "source": [
    "# PF04034\n",
    "# PF01699\n",
    "with open(\"PF01699_knotted.csv\", \"w\") as f:\n",
    "    for i in range(1,len(klist)):\n",
    "        f.write(str(klist[i]) + \",\" + \"1\" + \"\\n\")"
   ],
   "metadata": {
    "collapsed": false
   }
  }
 ],
 "metadata": {
  "kernelspec": {
   "display_name": "Python 3",
   "language": "python",
   "name": "python3"
  },
  "language_info": {
   "codemirror_mode": {
    "name": "ipython",
    "version": 2
   },
   "file_extension": ".py",
   "mimetype": "text/x-python",
   "name": "python",
   "nbconvert_exporter": "python",
   "pygments_lexer": "ipython2",
   "version": "2.7.6"
  }
 },
 "nbformat": 4,
 "nbformat_minor": 0
}
