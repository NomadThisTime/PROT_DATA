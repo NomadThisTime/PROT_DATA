{
 "cells": [
  {
   "cell_type": "code",
   "execution_count": null,
   "outputs": [],
   "source": [
    "# id, Global pLDDT, seq\n",
    "# id, seq, type of knot (topoly)\n",
    "\n",
    "#['A0A565CJU2', 'A0A1S2YG70', 'G1N4Z4', 'A0A6G1B0G2', 'A0A261Y061', 'A0A0Q3TLL9', 'A0A1Q9EBW3', 'A0A6P6GVF4', 'A0A2B4S0N4', 'A0A2N3N382', 'A0A0J7L0X7', 'A0A397J3N9', 'G1LMN2', 'H9GSM4', 'A0A388JUW3', 'M0T5V2', 'W7HZC1', 'M3HTD8', 'A0A1E5RDT2', 'A0A158PJ50', 'I2JTT2', 'A0A2A2LEK0', 'A0A6A1QFT6', 'A0A158NTE8']"
   ],
   "metadata": {
    "collapsed": false
   }
  },
  {
   "cell_type": "code",
   "execution_count": 2,
   "outputs": [
    {
     "data": {
      "text/plain": "1529"
     },
     "execution_count": 2,
     "metadata": {},
     "output_type": "execute_result"
    }
   ],
   "source": [
    "proteins = []\n",
    "with open(\"PF04034_reduced.fasta\", \"r\") as f:\n",
    "    lines = f.readlines()\n",
    "    for line in lines:\n",
    "        if line.strip(\"\\n\").startswith(\">\"):\n",
    "            numba = line.find(\"(\")\n",
    "            numbb = line.find(\")\")\n",
    "            proteins.append(line[numba+1:numbb])\n",
    "len(proteins)"
   ],
   "metadata": {
    "collapsed": false
   }
  },
  {
   "cell_type": "code",
   "execution_count": 3,
   "outputs": [
    {
     "data": {
      "text/plain": "1505"
     },
     "execution_count": 3,
     "metadata": {},
     "output_type": "execute_result"
    }
   ],
   "source": [
    "score = []\n",
    "ID = []\n",
    "for i in range(len(proteins)):\n",
    "    with open(f\"cif/AF-{proteins[i]}-F1-model_v3.cif\", \"r\") as x:\n",
    "        lines = x.readlines()\n",
    "        for line in lines:\n",
    "            if line.startswith(\"_ma_qa_metric_global.metric_value\"):\n",
    "                score.append(line[-6:-1])\n",
    "                ID.append(proteins[i])\n",
    "len(score)"
   ],
   "metadata": {
    "collapsed": false
   }
  },
  {
   "cell_type": "code",
   "execution_count": 4,
   "outputs": [
    {
     "name": "stdout",
     "output_type": "stream",
     "text": [
      "['A0A565CJU2', 'A0A1S2YG70', 'G1N4Z4', 'A0A6G1B0G2', 'A0A261Y061', 'A0A0Q3TLL9', 'A0A1Q9EBW3', 'A0A6P6GVF4', 'A0A2B4S0N4', 'A0A2N3N382', 'A0A0J7L0X7', 'A0A397J3N9', 'G1LMN2', 'H9GSM4', 'A0A388JUW3', 'M0T5V2', 'W7HZC1', 'M3HTD8', 'A0A1E5RDT2', 'A0A158PJ50', 'I2JTT2', 'A0A2A2LEK0', 'A0A6A1QFT6', 'A0A158NTE8']\n"
     ]
    }
   ],
   "source": [
    "difference = list(set(proteins) - set(ID))\n",
    "print(difference)\n",
    "for i in difference:\n"
   ],
   "metadata": {
    "collapsed": false
   }
  },
  {
   "cell_type": "code",
   "execution_count": 12,
   "outputs": [
    {
     "name": "stdout",
     "output_type": "stream",
     "text": [
      "1529\n"
     ]
    }
   ],
   "source": [
    "import os\n",
    "a = 0\n",
    "for i in os.listdir(\"cif\"):\n",
    "    a += 1\n",
    "print(a)"
   ],
   "metadata": {
    "collapsed": false
   }
  }
 ],
 "metadata": {
  "kernelspec": {
   "display_name": "Python 3",
   "language": "python",
   "name": "python3"
  },
  "language_info": {
   "codemirror_mode": {
    "name": "ipython",
    "version": 2
   },
   "file_extension": ".py",
   "mimetype": "text/x-python",
   "name": "python",
   "nbconvert_exporter": "python",
   "pygments_lexer": "ipython2",
   "version": "2.7.6"
  }
 },
 "nbformat": 4,
 "nbformat_minor": 0
}
