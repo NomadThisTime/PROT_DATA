{
 "cells": [
  {
   "cell_type": "code",
   "execution_count": null,
   "outputs": [],
   "source": [
    "# id, Global pLDDT, seq\n",
    "# id, seq, type of knot (topoly)\n",
    "\n",
    "# sequences removed due to lack of cif data: ['A0A565CJU2', 'A0A1S2YG70', 'G1N4Z4', 'A0A6G1B0G2', 'A0A261Y061', 'A0A0Q3TLL9', 'A0A1Q9EBW3', 'A0A6P6GVF4', 'A0A2B4S0N4', 'A0A2N3N382', 'A0A0J7L0X7', 'A0A397J3N9', 'G1LMN2', 'H9GSM4', 'A0A388JUW3', 'M0T5V2', 'W7HZC1', 'M3HTD8', 'A0A1E5RDT2', 'A0A158PJ50', 'I2JTT2', 'A0A2A2LEK0', 'A0A6A1QFT6', 'A0A158NTE8']\n",
    "# sequences removed due to low pLDDT score (less than 60) and being singular clusters: A0A256LXP1, A0A365THK6"
   ],
   "metadata": {
    "collapsed": false
   }
  },
  {
   "cell_type": "code",
   "execution_count": 169,
   "outputs": [],
   "source": [
    "proteins = []\n",
    "with open(\"PF04034_reduced.fasta\", \"r\") as f:\n",
    "    lines = f.readlines()\n",
    "\n",
    "    for line in lines:\n",
    "        if line.strip(\"\\n\").startswith(\">\"):\n",
    "            numba = line.find(\"(\")\n",
    "            numbb = line.find(\")\")\n",
    "            proteins.append(line[numba+1:numbb])"
   ],
   "metadata": {
    "collapsed": false
   }
  },
  {
   "cell_type": "code",
   "execution_count": 170,
   "outputs": [
    {
     "data": {
      "text/plain": "1451"
     },
     "execution_count": 170,
     "metadata": {},
     "output_type": "execute_result"
    }
   ],
   "source": [
    "score = []\n",
    "for i in range(len(proteins)):\n",
    "    with open(f\"cif/AF-{proteins[i]}-F1-model_v3.cif\", \"r\") as x:\n",
    "        lines = x.readlines()\n",
    "        for line in lines:\n",
    "            if line.startswith(\"_ma_qa_metric_global.metric_value\"):\n",
    "                score.append(line[-6:-1])\n",
    "len(score)"
   ],
   "metadata": {
    "collapsed": false
   }
  },
  {
   "cell_type": "code",
   "execution_count": 171,
   "outputs": [],
   "source": [
    "lista = []\n",
    "with open(\"PF04034_reduced.fasta\", \"r\") as file:\n",
    "    for line in file:\n",
    "        if '>' in line:\n",
    "            lista.append((id, seq))\n",
    "            id =  line[line.index('(')+1:line.index(')')]\n",
    "            seq = ''\n",
    "        else:\n",
    "            seq = seq + line"
   ],
   "metadata": {
    "collapsed": false
   }
  },
  {
   "cell_type": "code",
   "execution_count": 126,
   "outputs": [],
   "source": [
    "with open(\"PF04034.txt\", \"w\") as file:\n",
    "    for i in lista:\n",
    "        file.write(str(i[0]) + \",\" + str(i[1]).replace(\"\\n\", \"\") + \"\\n\")"
   ],
   "metadata": {
    "collapsed": false
   }
  },
  {
   "cell_type": "code",
   "execution_count": 174,
   "outputs": [],
   "source": [
    "with open(\"PF04034v2.txt\", \"w\") as file:\n",
    "    for i in range(1,len(lista)):\n",
    "        file.write(str(lista[i][0]) + \",\" + str(lista[i][1]).replace(\"\\n\", \"\") + \",\" + score[i-1] + \"\\n\")"
   ],
   "metadata": {
    "collapsed": false
   }
  },
  {
   "cell_type": "code",
   "execution_count": 172,
   "outputs": [
    {
     "name": "stdout",
     "output_type": "stream",
     "text": [
      "0\n"
     ]
    }
   ],
   "source": [
    "a = 0\n",
    "for i in range(len(score)):\n",
    "    if float(score[i]) < 60:\n",
    "        print(i)\n",
    "        a += 1\n",
    "print(a)"
   ],
   "metadata": {
    "collapsed": false
   }
  }
 ],
 "metadata": {
  "kernelspec": {
   "display_name": "Python 3",
   "language": "python",
   "name": "python3"
  },
  "language_info": {
   "codemirror_mode": {
    "name": "ipython",
    "version": 2
   },
   "file_extension": ".py",
   "mimetype": "text/x-python",
   "name": "python",
   "nbconvert_exporter": "python",
   "pygments_lexer": "ipython2",
   "version": "2.7.6"
  }
 },
 "nbformat": 4,
 "nbformat_minor": 0
}
